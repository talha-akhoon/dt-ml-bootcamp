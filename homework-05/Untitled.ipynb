{
 "cells": [
  {
   "cell_type": "code",
   "execution_count": 2,
   "id": "31e512d5-8d5a-4564-88ef-ae4f91612452",
   "metadata": {},
   "outputs": [
    {
     "name": "stdout",
     "output_type": "stream",
     "text": [
      "Customer: {'lead_source': 'paid_ads', 'number_of_courses_viewed': 2, 'annual_income': 79276.0}\n",
      "Conversion probability: 0.534\n",
      "Rounded to 3 decimals: 0.534\n"
     ]
    }
   ],
   "source": [
    "import pickle\n",
    "\n",
    "# Load the pipeline\n",
    "with open('pipeline_v1.bin', 'rb') as f:\n",
    "    pipeline = pickle.load(f)\n",
    "\n",
    "customer = {\n",
    "    \"lead_source\": \"paid_ads\",\n",
    "    \"number_of_courses_viewed\": 2,\n",
    "    \"annual_income\": 79276.0\n",
    "}\n",
    "\n",
    "prediction_proba = pipeline.predict_proba([customer])[0, 1]\n",
    "print(f\"Customer: {customer}\")\n",
    "print(f\"Conversion probability: {prediction_proba:.3f}\")\n",
    "print(f\"Rounded to 3 decimals: {round(prediction_proba, 3)}\")"
   ]
  },
  {
   "cell_type": "code",
   "execution_count": 6,
   "id": "02755c33-1b64-420b-bfbe-56418a255f1c",
   "metadata": {},
   "outputs": [
    {
     "data": {
      "text/plain": [
       "{'conversion_probability': 0.5340417283801275,\n",
       " 'conversion_probability_rounded': 0.534}"
      ]
     },
     "execution_count": 6,
     "metadata": {},
     "output_type": "execute_result"
    }
   ],
   "source": [
    "import requests\n",
    "\n",
    "url = \"http://127.0.0.1:8000/predict\"\n",
    "client = {\n",
    "    \"lead_source\": \"organic_search\",\n",
    "    \"number_of_courses_viewed\": 4,\n",
    "    \"annual_income\": 80304.0\n",
    "}\n",
    "requests.post(url, json=client).json()"
   ]
  },
  {
   "cell_type": "code",
   "execution_count": 9,
   "id": "b7ce08ce-341e-4c58-94c4-80a1aeec601a",
   "metadata": {},
   "outputs": [
    {
     "data": {
      "text/plain": [
       "{'conversion_probability': 0.5340417283801275,\n",
       " 'conversion_probability_rounded': 0.534}"
      ]
     },
     "execution_count": 9,
     "metadata": {},
     "output_type": "execute_result"
    }
   ],
   "source": [
    "import requests\n",
    "\n",
    "url = \"http://127.0.0.1:9000/predict\"\n",
    "client = {\n",
    "    \"lead_source\": \"organic_search\",\n",
    "    \"number_of_courses_viewed\": 4,\n",
    "    \"annual_income\": 80304.0\n",
    "}\n",
    "requests.post(url, json=client).json()"
   ]
  },
  {
   "cell_type": "code",
   "execution_count": null,
   "id": "4a365efb-3fb0-40c4-b650-7dcd92b4f28d",
   "metadata": {},
   "outputs": [],
   "source": []
  }
 ],
 "metadata": {
  "kernelspec": {
   "display_name": "Python 3 (ipykernel)",
   "language": "python",
   "name": "python3"
  },
  "language_info": {
   "codemirror_mode": {
    "name": "ipython",
    "version": 3
   },
   "file_extension": ".py",
   "mimetype": "text/x-python",
   "name": "python",
   "nbconvert_exporter": "python",
   "pygments_lexer": "ipython3",
   "version": "3.12.0"
  }
 },
 "nbformat": 4,
 "nbformat_minor": 5
}
