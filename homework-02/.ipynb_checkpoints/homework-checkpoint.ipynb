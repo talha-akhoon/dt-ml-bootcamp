{
 "cells": [
  {
   "cell_type": "code",
   "execution_count": 1,
   "id": "196da6c80c0f9176",
   "metadata": {
    "collapsed": false,
    "is_executing": true,
    "jupyter": {
     "outputs_hidden": false
    }
   },
   "outputs": [
    {
     "data": {
      "text/html": [
       "<div>\n",
       "<style scoped>\n",
       "    .dataframe tbody tr th:only-of-type {\n",
       "        vertical-align: middle;\n",
       "    }\n",
       "\n",
       "    .dataframe tbody tr th {\n",
       "        vertical-align: top;\n",
       "    }\n",
       "\n",
       "    .dataframe thead th {\n",
       "        text-align: right;\n",
       "    }\n",
       "</style>\n",
       "<table border=\"1\" class=\"dataframe\">\n",
       "  <thead>\n",
       "    <tr style=\"text-align: right;\">\n",
       "      <th></th>\n",
       "      <th>engine_displacement</th>\n",
       "      <th>horsepower</th>\n",
       "      <th>vehicle_weight</th>\n",
       "      <th>model_year</th>\n",
       "      <th>fuel_efficiency_mpg</th>\n",
       "    </tr>\n",
       "  </thead>\n",
       "  <tbody>\n",
       "    <tr>\n",
       "      <th>count</th>\n",
       "      <td>9704.000000</td>\n",
       "      <td>8996.000000</td>\n",
       "      <td>9704.000000</td>\n",
       "      <td>9704.000000</td>\n",
       "      <td>9704.000000</td>\n",
       "    </tr>\n",
       "    <tr>\n",
       "      <th>mean</th>\n",
       "      <td>199.708368</td>\n",
       "      <td>149.657292</td>\n",
       "      <td>3001.280993</td>\n",
       "      <td>2011.484027</td>\n",
       "      <td>14.985243</td>\n",
       "    </tr>\n",
       "    <tr>\n",
       "      <th>std</th>\n",
       "      <td>49.455319</td>\n",
       "      <td>29.879555</td>\n",
       "      <td>497.894860</td>\n",
       "      <td>6.659808</td>\n",
       "      <td>2.556468</td>\n",
       "    </tr>\n",
       "    <tr>\n",
       "      <th>min</th>\n",
       "      <td>10.000000</td>\n",
       "      <td>37.000000</td>\n",
       "      <td>952.681761</td>\n",
       "      <td>2000.000000</td>\n",
       "      <td>6.200971</td>\n",
       "    </tr>\n",
       "    <tr>\n",
       "      <th>25%</th>\n",
       "      <td>170.000000</td>\n",
       "      <td>130.000000</td>\n",
       "      <td>2666.248985</td>\n",
       "      <td>2006.000000</td>\n",
       "      <td>13.267459</td>\n",
       "    </tr>\n",
       "    <tr>\n",
       "      <th>50%</th>\n",
       "      <td>200.000000</td>\n",
       "      <td>149.000000</td>\n",
       "      <td>2993.226296</td>\n",
       "      <td>2012.000000</td>\n",
       "      <td>15.006037</td>\n",
       "    </tr>\n",
       "    <tr>\n",
       "      <th>75%</th>\n",
       "      <td>230.000000</td>\n",
       "      <td>170.000000</td>\n",
       "      <td>3334.957039</td>\n",
       "      <td>2017.000000</td>\n",
       "      <td>16.707965</td>\n",
       "    </tr>\n",
       "    <tr>\n",
       "      <th>max</th>\n",
       "      <td>380.000000</td>\n",
       "      <td>271.000000</td>\n",
       "      <td>4739.077089</td>\n",
       "      <td>2023.000000</td>\n",
       "      <td>25.967222</td>\n",
       "    </tr>\n",
       "  </tbody>\n",
       "</table>\n",
       "</div>"
      ],
      "text/plain": [
       "       engine_displacement   horsepower  vehicle_weight   model_year  \\\n",
       "count          9704.000000  8996.000000     9704.000000  9704.000000   \n",
       "mean            199.708368   149.657292     3001.280993  2011.484027   \n",
       "std              49.455319    29.879555      497.894860     6.659808   \n",
       "min              10.000000    37.000000      952.681761  2000.000000   \n",
       "25%             170.000000   130.000000     2666.248985  2006.000000   \n",
       "50%             200.000000   149.000000     2993.226296  2012.000000   \n",
       "75%             230.000000   170.000000     3334.957039  2017.000000   \n",
       "max             380.000000   271.000000     4739.077089  2023.000000   \n",
       "\n",
       "       fuel_efficiency_mpg  \n",
       "count          9704.000000  \n",
       "mean             14.985243  \n",
       "std               2.556468  \n",
       "min               6.200971  \n",
       "25%              13.267459  \n",
       "50%              15.006037  \n",
       "75%              16.707965  \n",
       "max              25.967222  "
      ]
     },
     "execution_count": 1,
     "metadata": {},
     "output_type": "execute_result"
    }
   ],
   "source": [
    "import pandas as pd\n",
    "import numpy as np\n",
    "import seaborn as sns\n",
    "\n",
    "#q2\n",
    "csv = pd.read_csv(\"https://raw.githubusercontent.com/alexeygrigorev/datasets/master/car_fuel_efficiency.csv\")\n",
    "\n",
    "def prepare_df(df):\n",
    "    df = df[['engine_displacement','horsepower','vehicle_weight','model_year','fuel_efficiency_mpg']]\n",
    "    return df\n",
    "\n",
    "csv = prepare_df(csv)\n",
    "\n",
    "csv.describe()"
   ]
  },
  {
   "cell_type": "code",
   "execution_count": 2,
   "id": "d79c4a95-0cb0-4590-b4e9-e8c6d6c8513e",
   "metadata": {
    "is_executing": true
   },
   "outputs": [
    {
     "data": {
      "text/plain": [
       "<Axes: xlabel='fuel_efficiency_mpg', ylabel='Count'>"
      ]
     },
     "execution_count": 2,
     "metadata": {},
     "output_type": "execute_result"
    },
    {
     "data": {
      "image/png": "[encoded data removed]",
      "text/plain": [
       "<Figure size 640x480 with 1 Axes>"
      ]
     },
     "metadata": {},
     "output_type": "display_data"
    }
   ],
   "source": [
    "#EDA\n",
    "sns.histplot(csv, x=\"fuel_efficiency_mpg\")\n"
   ]
  },
  {
   "cell_type": "code",
   "execution_count": 3,
   "id": "7b16332c-3eca-42fb-b166-1db2f4ef2849",
   "metadata": {
    "is_executing": true
   },
   "outputs": [
    {
     "data": {
      "text/plain": [
       "engine_displacement      0\n",
       "horsepower             708\n",
       "vehicle_weight           0\n",
       "model_year               0\n",
       "fuel_efficiency_mpg      0\n",
       "dtype: int64"
      ]
     },
     "execution_count": 3,
     "metadata": {},
     "output_type": "execute_result"
    }
   ],
   "source": [
    "#q1\n",
    "csv.isnull().sum()\n",
    "#answer: horsepower"
   ]
  },
  {
   "cell_type": "code",
   "execution_count": 4,
   "id": "195accfc-58f2-4be6-a24b-0a6579a29c52",
   "metadata": {
    "is_executing": true
   },
   "outputs": [],
   "source": [
    "#q2\n",
    "csv['horsepower'].median()\n",
    "#answer: 149\n",
    "\n",
    "\n",
    "#q3\n",
    "def split(df, seed: int=42):\n",
    "    n = df.shape[0]\n",
    "    n_test = int(n * 0.2)\n",
    "    n_val = int(n * 0.2)\n",
    "    n_train = n - (n_test + n_val)\n",
    "    \n",
    "    idx = np.arange(n)\n",
    "    np.random.seed(seed)\n",
    "    np.random.shuffle(idx)\n",
    "    \n",
    "    idx_train = idx[:n_train]\n",
    "    idx_val = idx[n_train:n_train+n_val]\n",
    "    idx_test = idx[n_train+n_val:]\n",
    "    \n",
    "    df_train = df.iloc[idx_train]\n",
    "    df_val = df.iloc[idx_val]\n",
    "    df_test = df.iloc[idx_test]\n",
    "\n",
    "    return df_train, df_val, df_test\n",
    "\n",
    "def train_linear_regression(df, target: str):\n",
    "    X = df.drop(columns=[target]).values\n",
    "    y = df[target].values\n",
    "\n",
    "    ones = np.ones(X.shape[0])\n",
    "    X = np.column_stack([ones, X])\n",
    "\n",
    "    XTX = X.T.dot(X)\n",
    "    XTX_inv = np.linalg.inv(XTX)\n",
    "    w_full = XTX_inv.dot(X.T).dot(y) \n",
    "\n",
    "    return w_full\n",
    "\n",
    "def predict(df, W, target: str):\n",
    "    X = df.drop(columns=[target]).values\n",
    "    w0 = W[0]\n",
    "    return w0 + X.dot(W[1:])\n",
    "\n",
    "def rmse(df, y_pred, target: str):\n",
    "    y = df[target].values\n",
    "    error = y-y_pred\n",
    "    se = error**2\n",
    "    mse = se.mean()\n",
    "\n",
    "    return np.sqrt(mse)"
   ]
  },
  {
   "cell_type": "code",
   "execution_count": 5,
   "id": "7e9542e9-7614-4cce-901b-4604321b919c",
   "metadata": {
    "is_executing": true
   },
   "outputs": [],
   "source": [
    "csv_train, csv_val, csv_test = split(csv, 42)"
   ]
  },
  {
   "cell_type": "code",
   "execution_count": 6,
   "id": "56ff986e-f61f-40ec-a988-8d52a28bbafb",
   "metadata": {
    "is_executing": true
   },
   "outputs": [],
   "source": [
    "hp_mean_train = csv_train['horsepower'].mean()"
   ]
  },
  {
   "cell_type": "code",
   "execution_count": 7,
   "id": "7bb2982d-63e3-4a5d-81bd-f536cdf262d7",
   "metadata": {
    "is_executing": true
   },
   "outputs": [],
   "source": [
    "csv_train_with_zero, csv_val_with_zero, csv_test_with_zero = [df.fillna(0) for df in (csv_train, csv_val, csv_test)]\n",
    "csv_train_with_mean, csv_val_with_mean, csv_test_with_mean = [df.fillna(hp_mean_train) for df in (csv_train, csv_val, csv_test)]"
   ]
  },
  {
   "cell_type": "code",
   "execution_count": 8,
   "id": "e89e6bcb-6b97-42f5-8c71-afc74baccb25",
   "metadata": {
    "is_executing": true
   },
   "outputs": [
    {
     "name": "stdout",
     "output_type": "stream",
     "text": [
      "With Zeros: 0.52\n",
      "With Mean: 0.46\n"
     ]
    }
   ],
   "source": [
    "  for name, df_train, df_val in [('With Zeros', csv_train_with_zero, csv_val_with_zero),\n",
    "                                  ('With Mean', csv_train_with_mean, csv_val_with_mean)]:\n",
    "      w= train_linear_regression(df_train, 'fuel_efficiency_mpg')\n",
    "      y_pred = predict(df_val, w, 'fuel_efficiency_mpg')\n",
    "      print(f'{name}: {round(rmse(df_val, y_pred, 'fuel_efficiency_mpg'), 2)}')"
   ]
  },
  {
   "cell_type": "code",
   "execution_count": 9,
   "id": "3cf034ba-829b-4d87-8274-7f0b3a5f1907",
   "metadata": {
    "is_executing": true
   },
   "outputs": [
    {
     "name": "stdout",
     "output_type": "stream",
     "text": [
      "r=0: 0.5173782638841655\n",
      "r=0.01: 0.517111552576255\n",
      "r=0.1: 0.5187525130701096\n",
      "r=1: 0.5222348802092593\n",
      "r=5: 0.522891609282353\n",
      "r=10: 0.5229812979636556\n",
      "r=100: 0.5230636233819932\n"
     ]
    }
   ],
   "source": [
    "#q4\n",
    "\n",
    "def train_linear_regression_with_r(df, target: str, r: int):\n",
    "    X = df.drop(columns=[target]).values\n",
    "    y = df[target].values\n",
    "\n",
    "    ones = np.ones(X.shape[0])\n",
    "    X = np.column_stack([ones, X])\n",
    "\n",
    "    XTX = X.T.dot(X)\n",
    "    XTX = XTX + r * np.eye(XTX.shape[0])\n",
    "    XTX_inv = np.linalg.inv(XTX)\n",
    "    w_full = XTX_inv.dot(X.T).dot(y) \n",
    "\n",
    "    return w_full\n",
    "\n",
    "rs = [0, 0.01, 0.1, 1, 5, 10, 100]\n",
    "results = []\n",
    "for r in rs:\n",
    "    # train model\n",
    "    w = train_linear_regression_with_r(csv_train_with_zero, 'fuel_efficiency_mpg', r)\n",
    "\n",
    "    y_val = csv_train_with_zero['fuel_efficiency_mpg'].values\n",
    "    y_pred = predict(csv_val_with_zero, w, 'fuel_efficiency_mpg')\n",
    "\n",
    "    error = rmse(csv_val_with_zero, y_pred, 'fuel_efficiency_mpg')\n",
    "    results.append((r, error))\n",
    "    print(f'r={r}: {error}')"
   ]
  },
  {
   "cell_type": "code",
   "execution_count": 10,
   "id": "eae47afb-9514-4139-ace3-8d5986bae4a8",
   "metadata": {},
   "outputs": [
    {
     "name": "stdout",
     "output_type": "stream",
     "text": [
      "0: 0.5206531296280096\n",
      "1: 0.5213388912854027\n",
      "2: 0.5228069974702905\n",
      "3: 0.5159516741065057\n",
      "4: 0.5109129460122063\n",
      "5: 0.5283406459953645\n",
      "6: 0.5313910658172253\n",
      "7: 0.5090670387375617\n",
      "8: 0.5147399129158975\n",
      "9: 0.5131865908294857\n",
      "Standard deviation: 0.007\n"
     ]
    }
   ],
   "source": [
    "#q5\n",
    "seeds = [0, 1, 2, 3, 4, 5, 6, 7, 8, 9]\n",
    "results = {}\n",
    "\n",
    "for seed in seeds:\n",
    "    csv_train, csv_val, csv_test = split(csv.fillna(0), seed)\n",
    "\n",
    "    # train model\n",
    "    w = train_linear_regression(csv_train, 'fuel_efficiency_mpg')\n",
    "\n",
    "    y_pred = predict(csv_val, w, 'fuel_efficiency_mpg')\n",
    "    results[seed] = rmse(csv_val, y_pred, 'fuel_efficiency_mpg')\n",
    "\n",
    "for seed, error in results.items():\n",
    "    print(f'{seed}: {error}')\n",
    "\n",
    "std = np.std(list(results.values()))\n",
    "print(f'Standard deviation: {round(std, 3)}')\n"
   ]
  },
  {
   "cell_type": "code",
   "execution_count": 11,
   "id": "27d2b14c-b77e-45c3-802a-6b0fc6f05a0e",
   "metadata": {},
   "outputs": [
    {
     "data": {
      "text/plain": [
       "np.float64(0.5154787345758112)"
      ]
     },
     "execution_count": 11,
     "metadata": {},
     "output_type": "execute_result"
    }
   ],
   "source": [
    "#q6\n",
    "csv_train, csv_val, csv_test = split(csv.fillna(0), 9)\n",
    "csv_train_full = pd.concat([csv_train, csv_val])\n",
    "\n",
    "w = train_linear_regression_with_r(csv_train_with_zero, 'fuel_efficiency_mpg', 0.001)\n",
    "y_pred = predict(csv_test, w, 'fuel_efficiency_mpg')\n",
    "rmse(csv_test, y_pred, 'fuel_efficiency_mpg')\n"
   ]
  },
  {
   "cell_type": "code",
   "execution_count": null,
   "id": "1b578937-5c76-43e4-b9c7-082415c5e3eb",
   "metadata": {},
   "outputs": [],
   "source": []
  }
 ],
 "metadata": {
  "kernelspec": {
   "display_name": "Python 3 (ipykernel)",
   "language": "python",
   "name": "python3"
  },
  "language_info": {
   "codemirror_mode": {
    "name": "ipython",
    "version": 3
   },
   "file_extension": ".py",
   "mimetype": "text/x-python",
   "name": "python",
   "nbconvert_exporter": "python",
   "pygments_lexer": "ipython3",
   "version": "3.12.0"
  }
 },
 "nbformat": 4,
 "nbformat_minor": 5
}
